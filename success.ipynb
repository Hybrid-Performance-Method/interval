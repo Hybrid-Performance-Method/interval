{
 "cells": [
  {
   "cell_type": "markdown",
   "metadata": {
    "papermill": {
     "duration": 0.004481,
     "end_time": "2021-01-23T19:16:31.337260",
     "exception": false,
     "start_time": "2021-01-23T19:16:31.332779",
     "status": "completed"
    },
    "tags": []
   },
   "source": [
    "# Sample Notebook\n"
   ]
  },
  {
   "cell_type": "markdown",
   "metadata": {
    "papermill": {
     "duration": 0.002271,
     "end_time": "2021-01-23T19:16:31.342328",
     "exception": false,
     "start_time": "2021-01-23T19:16:31.340057",
     "status": "completed"
    },
    "tags": []
   },
   "source": [
    "This script should \n",
    "- execute top to bottom\n",
    "- provide useful output \n",
    "- print something"
   ]
  },
  {
   "cell_type": "code",
   "execution_count": 1,
   "metadata": {
    "execution": {
     "iopub.execute_input": "2021-01-23T19:16:31.353992Z",
     "iopub.status.busy": "2021-01-23T19:16:31.353223Z",
     "iopub.status.idle": "2021-01-23T19:16:31.358314Z",
     "shell.execute_reply": "2021-01-23T19:16:31.358857Z"
    },
    "papermill": {
     "duration": 0.014676,
     "end_time": "2021-01-23T19:16:31.359311",
     "exception": false,
     "start_time": "2021-01-23T19:16:31.344635",
     "status": "completed"
    },
    "tags": []
   },
   "outputs": [
    {
     "name": "stdout",
     "output_type": "stream",
     "text": [
      "success\n"
     ]
    }
   ],
   "source": [
    "import time\n",
    "import os\n",
    "print(\"success\")"
   ]
  },
  {
   "cell_type": "code",
   "execution_count": 2,
   "metadata": {
    "execution": {
     "iopub.execute_input": "2021-01-23T19:16:31.368289Z",
     "iopub.status.busy": "2021-01-23T19:16:31.367797Z",
     "iopub.status.idle": "2021-01-23T19:16:31.369779Z",
     "shell.execute_reply": "2021-01-23T19:16:31.370115Z"
    },
    "papermill": {
     "duration": 0.008038,
     "end_time": "2021-01-23T19:16:31.370268",
     "exception": false,
     "start_time": "2021-01-23T19:16:31.362230",
     "status": "completed"
    },
    "tags": []
   },
   "outputs": [],
   "source": [
    "with open(\"testfile.txt\", \"w\") as f:\n",
    "    pass"
   ]
  },
  {
   "cell_type": "code",
   "execution_count": 3,
   "metadata": {
    "execution": {
     "iopub.execute_input": "2021-01-23T19:16:31.378924Z",
     "iopub.status.busy": "2021-01-23T19:16:31.378428Z",
     "iopub.status.idle": "2021-01-23T19:16:36.387475Z",
     "shell.execute_reply": "2021-01-23T19:16:36.388026Z"
    },
    "papermill": {
     "duration": 5.015174,
     "end_time": "2021-01-23T19:16:36.388241",
     "exception": false,
     "start_time": "2021-01-23T19:16:31.373067",
     "status": "completed"
    },
    "tags": []
   },
   "outputs": [],
   "source": [
    "time.sleep(5)"
   ]
  },
  {
   "cell_type": "code",
   "execution_count": 4,
   "metadata": {
    "execution": {
     "iopub.execute_input": "2021-01-23T19:16:36.397597Z",
     "iopub.status.busy": "2021-01-23T19:16:36.397060Z",
     "iopub.status.idle": "2021-01-23T19:16:36.398717Z",
     "shell.execute_reply": "2021-01-23T19:16:36.399067Z"
    },
    "papermill": {
     "duration": 0.007455,
     "end_time": "2021-01-23T19:16:36.399231",
     "exception": false,
     "start_time": "2021-01-23T19:16:36.391776",
     "status": "completed"
    },
    "tags": []
   },
   "outputs": [],
   "source": [
    "os.remove(\"testfile.txt\")"
   ]
  }
 ],
 "metadata": {
  "kernelspec": {
   "display_name": "Python 3",
   "language": "python",
   "name": "python3"
  },
  "language_info": {
   "codemirror_mode": {
    "name": "ipython",
    "version": 3
   },
   "file_extension": ".py",
   "mimetype": "text/x-python",
   "name": "python",
   "nbconvert_exporter": "python",
   "pygments_lexer": "ipython3",
   "version": "3.7.8"
  },
  "papermill": {
   "default_parameters": {},
   "duration": 6.525399,
   "end_time": "2021-01-23T19:16:36.619227",
   "environment_variables": {},
   "exception": null,
   "input_path": "sample.ipynb",
   "output_path": "success.ipynb",
   "parameters": {},
   "start_time": "2021-01-23T19:16:30.093828",
   "version": "2.2.0"
  }
 },
 "nbformat": 4,
 "nbformat_minor": 2
}