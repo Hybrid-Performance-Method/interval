{
 "cells": [
  {
   "cell_type": "markdown",
   "metadata": {
    "papermill": {
     "duration": 0.004529,
     "end_time": "2021-01-23T16:04:30.047176",
     "exception": false,
     "start_time": "2021-01-23T16:04:30.042647",
     "status": "completed"
    },
    "tags": []
   },
   "source": [
    "# Sample Notebook\n"
   ]
  },
  {
   "cell_type": "markdown",
   "metadata": {
    "papermill": {
     "duration": 0.002392,
     "end_time": "2021-01-23T16:04:30.052379",
     "exception": false,
     "start_time": "2021-01-23T16:04:30.049987",
     "status": "completed"
    },
    "tags": []
   },
   "source": [
    "This script should \n",
    "- execute top to bottom\n",
    "- provide useful output \n",
    "- print something"
   ]
  },
  {
   "cell_type": "code",
   "execution_count": 1,
   "metadata": {
    "execution": {
     "iopub.execute_input": "2021-01-23T16:04:30.061871Z",
     "iopub.status.busy": "2021-01-23T16:04:30.061323Z",
     "iopub.status.idle": "2021-01-23T16:04:30.067804Z",
     "shell.execute_reply": "2021-01-23T16:04:30.068150Z"
    },
    "papermill": {
     "duration": 0.013554,
     "end_time": "2021-01-23T16:04:30.068379",
     "exception": false,
     "start_time": "2021-01-23T16:04:30.054825",
     "status": "completed"
    },
    "tags": []
   },
   "outputs": [
    {
     "name": "stdout",
     "output_type": "stream",
     "text": [
      "success\n"
     ]
    }
   ],
   "source": [
    "import time\n",
    "import os\n",
    "print(\"success\")"
   ]
  },
  {
   "cell_type": "code",
   "execution_count": 2,
   "metadata": {
    "execution": {
     "iopub.execute_input": "2021-01-23T16:04:30.077291Z",
     "iopub.status.busy": "2021-01-23T16:04:30.076781Z",
     "iopub.status.idle": "2021-01-23T16:04:30.078596Z",
     "shell.execute_reply": "2021-01-23T16:04:30.078944Z"
    },
    "papermill": {
     "duration": 0.007965,
     "end_time": "2021-01-23T16:04:30.079103",
     "exception": false,
     "start_time": "2021-01-23T16:04:30.071138",
     "status": "completed"
    },
    "tags": []
   },
   "outputs": [],
   "source": [
    "with open(\"testfile.txt\", \"w\") as f:\n",
    "    pass"
   ]
  },
  {
   "cell_type": "code",
   "execution_count": 3,
   "metadata": {
    "execution": {
     "iopub.execute_input": "2021-01-23T16:04:30.087047Z",
     "iopub.status.busy": "2021-01-23T16:04:30.086467Z",
     "iopub.status.idle": "2021-01-23T16:04:35.092156Z",
     "shell.execute_reply": "2021-01-23T16:04:35.092737Z"
    },
    "papermill": {
     "duration": 5.011199,
     "end_time": "2021-01-23T16:04:35.092960",
     "exception": false,
     "start_time": "2021-01-23T16:04:30.081761",
     "status": "completed"
    },
    "tags": []
   },
   "outputs": [],
   "source": [
    "time.sleep(5)"
   ]
  },
  {
   "cell_type": "code",
   "execution_count": 4,
   "metadata": {
    "execution": {
     "iopub.execute_input": "2021-01-23T16:04:35.102412Z",
     "iopub.status.busy": "2021-01-23T16:04:35.101833Z",
     "iopub.status.idle": "2021-01-23T16:04:35.103606Z",
     "shell.execute_reply": "2021-01-23T16:04:35.103955Z"
    },
    "papermill": {
     "duration": 0.007626,
     "end_time": "2021-01-23T16:04:35.104122",
     "exception": false,
     "start_time": "2021-01-23T16:04:35.096496",
     "status": "completed"
    },
    "tags": []
   },
   "outputs": [],
   "source": [
    "os.remove(\"testfile.txt\")"
   ]
  }
 ],
 "metadata": {
  "kernelspec": {
   "display_name": "Python 3",
   "language": "python",
   "name": "python3"
  },
  "language_info": {
   "codemirror_mode": {
    "name": "ipython",
    "version": 3
   },
   "file_extension": ".py",
   "mimetype": "text/x-python",
   "name": "python",
   "nbconvert_exporter": "python",
   "pygments_lexer": "ipython3",
   "version": "3.7.8"
  },
  "papermill": {
   "default_parameters": {},
   "duration": 6.067447,
   "end_time": "2021-01-23T16:04:35.319056",
   "environment_variables": {},
   "exception": null,
   "input_path": "sample.ipynb",
   "output_path": "success.ipynb",
   "parameters": {},
   "start_time": "2021-01-23T16:04:29.251609",
   "version": "2.2.0"
  }
 },
 "nbformat": 4,
 "nbformat_minor": 2
}