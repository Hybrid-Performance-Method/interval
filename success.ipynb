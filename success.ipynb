{
 "cells": [
  {
   "cell_type": "markdown",
   "metadata": {
    "papermill": {
     "duration": 0.003849,
     "end_time": "2021-01-23T19:39:02.308471",
     "exception": false,
     "start_time": "2021-01-23T19:39:02.304622",
     "status": "completed"
    },
    "tags": []
   },
   "source": [
    "# Sample Notebook\n"
   ]
  },
  {
   "cell_type": "markdown",
   "metadata": {
    "papermill": {
     "duration": 0.00283,
     "end_time": "2021-01-23T19:39:02.313974",
     "exception": false,
     "start_time": "2021-01-23T19:39:02.311144",
     "status": "completed"
    },
    "tags": []
   },
   "source": [
    "This script should \n",
    "- execute top to bottom\n",
    "- provide useful output \n",
    "- print something"
   ]
  },
  {
   "cell_type": "code",
   "execution_count": 1,
   "metadata": {
    "execution": {
     "iopub.execute_input": "2021-01-23T19:39:02.323851Z",
     "iopub.status.busy": "2021-01-23T19:39:02.323154Z",
     "iopub.status.idle": "2021-01-23T19:39:02.326377Z",
     "shell.execute_reply": "2021-01-23T19:39:02.326742Z"
    },
    "papermill": {
     "duration": 0.01074,
     "end_time": "2021-01-23T19:39:02.326987",
     "exception": false,
     "start_time": "2021-01-23T19:39:02.316247",
     "status": "completed"
    },
    "tags": []
   },
   "outputs": [
    {
     "name": "stdout",
     "output_type": "stream",
     "text": [
      "success\n"
     ]
    }
   ],
   "source": [
    "import time\n",
    "import os\n",
    "print(\"success\")"
   ]
  },
  {
   "cell_type": "code",
   "execution_count": 2,
   "metadata": {
    "execution": {
     "iopub.execute_input": "2021-01-23T19:39:02.335898Z",
     "iopub.status.busy": "2021-01-23T19:39:02.335399Z",
     "iopub.status.idle": "2021-01-23T19:39:02.337320Z",
     "shell.execute_reply": "2021-01-23T19:39:02.337666Z"
    },
    "papermill": {
     "duration": 0.007516,
     "end_time": "2021-01-23T19:39:02.337821",
     "exception": false,
     "start_time": "2021-01-23T19:39:02.330305",
     "status": "completed"
    },
    "tags": []
   },
   "outputs": [],
   "source": [
    "with open(\"testfile.txt\", \"w\") as f:\n",
    "    pass"
   ]
  },
  {
   "cell_type": "code",
   "execution_count": 3,
   "metadata": {
    "execution": {
     "iopub.execute_input": "2021-01-23T19:39:02.346195Z",
     "iopub.status.busy": "2021-01-23T19:39:02.345638Z",
     "iopub.status.idle": "2021-01-23T19:39:07.354000Z",
     "shell.execute_reply": "2021-01-23T19:39:07.354497Z"
    },
    "papermill": {
     "duration": 5.014281,
     "end_time": "2021-01-23T19:39:07.354709",
     "exception": false,
     "start_time": "2021-01-23T19:39:02.340428",
     "status": "completed"
    },
    "tags": []
   },
   "outputs": [],
   "source": [
    "time.sleep(5)"
   ]
  },
  {
   "cell_type": "code",
   "execution_count": 4,
   "metadata": {
    "execution": {
     "iopub.execute_input": "2021-01-23T19:39:07.364926Z",
     "iopub.status.busy": "2021-01-23T19:39:07.364190Z",
     "iopub.status.idle": "2021-01-23T19:39:07.366160Z",
     "shell.execute_reply": "2021-01-23T19:39:07.366608Z"
    },
    "papermill": {
     "duration": 0.008698,
     "end_time": "2021-01-23T19:39:07.366773",
     "exception": false,
     "start_time": "2021-01-23T19:39:07.358075",
     "status": "completed"
    },
    "tags": []
   },
   "outputs": [],
   "source": [
    "os.remove(\"testfile.txt\")"
   ]
  }
 ],
 "metadata": {
  "kernelspec": {
   "display_name": "Python 3",
   "language": "python",
   "name": "python3"
  },
  "language_info": {
   "codemirror_mode": {
    "name": "ipython",
    "version": 3
   },
   "file_extension": ".py",
   "mimetype": "text/x-python",
   "name": "python",
   "nbconvert_exporter": "python",
   "pygments_lexer": "ipython3",
   "version": "3.7.8"
  },
  "papermill": {
   "default_parameters": {},
   "duration": 6.029942,
   "end_time": "2021-01-23T19:39:07.578864",
   "environment_variables": {},
   "exception": null,
   "input_path": "sample.ipynb",
   "output_path": "success.ipynb",
   "parameters": {},
   "start_time": "2021-01-23T19:39:01.548922",
   "version": "2.2.0"
  }
 },
 "nbformat": 4,
 "nbformat_minor": 2
}